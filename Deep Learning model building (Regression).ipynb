{
 "cells": [
  {
   "cell_type": "code",
   "execution_count": 1,
   "id": "b6de3197",
   "metadata": {},
   "outputs": [],
   "source": [
    "import pandas as pd\n",
    "import tensorflow as tf\n",
    "from sklearn.preprocessing import LabelEncoder\n",
    "from sklearn.model_selection import train_test_split\n",
    "from tensorflow.keras.layers import Dense\n",
    "from tensorflow.keras.models import Sequential\n",
    "import matplotlib.pyplot as plt"
   ]
  },
  {
   "cell_type": "code",
   "execution_count": 18,
   "id": "ada9fd1d",
   "metadata": {},
   "outputs": [],
   "source": [
    "df = pd.read_csv('Xiomi_data.csv')"
   ]
  },
  {
   "cell_type": "code",
   "execution_count": 19,
   "id": "9560af91",
   "metadata": {},
   "outputs": [
    {
     "data": {
      "text/html": [
       "<div>\n",
       "<style scoped>\n",
       "    .dataframe tbody tr th:only-of-type {\n",
       "        vertical-align: middle;\n",
       "    }\n",
       "\n",
       "    .dataframe tbody tr th {\n",
       "        vertical-align: top;\n",
       "    }\n",
       "\n",
       "    .dataframe thead th {\n",
       "        text-align: right;\n",
       "    }\n",
       "</style>\n",
       "<table border=\"1\" class=\"dataframe\">\n",
       "  <thead>\n",
       "    <tr style=\"text-align: right;\">\n",
       "      <th></th>\n",
       "      <th>Customer</th>\n",
       "      <th>Day</th>\n",
       "      <th>Browser</th>\n",
       "      <th>No. of Clicks</th>\n",
       "      <th>Pages Viewed</th>\n",
       "      <th>Time (min)</th>\n",
       "      <th>Amount Spent (Rs.)</th>\n",
       "    </tr>\n",
       "  </thead>\n",
       "  <tbody>\n",
       "    <tr>\n",
       "      <th>0</th>\n",
       "      <td>1</td>\n",
       "      <td>Monday</td>\n",
       "      <td>Chrome</td>\n",
       "      <td>13</td>\n",
       "      <td>4</td>\n",
       "      <td>8.5</td>\n",
       "      <td>2668</td>\n",
       "    </tr>\n",
       "    <tr>\n",
       "      <th>1</th>\n",
       "      <td>2</td>\n",
       "      <td>Saturday</td>\n",
       "      <td>Chrome</td>\n",
       "      <td>15</td>\n",
       "      <td>5</td>\n",
       "      <td>16.9</td>\n",
       "      <td>3469</td>\n",
       "    </tr>\n",
       "    <tr>\n",
       "      <th>2</th>\n",
       "      <td>3</td>\n",
       "      <td>Monday</td>\n",
       "      <td>Internet Explorer</td>\n",
       "      <td>20</td>\n",
       "      <td>6</td>\n",
       "      <td>7.3</td>\n",
       "      <td>5215</td>\n",
       "    </tr>\n",
       "    <tr>\n",
       "      <th>3</th>\n",
       "      <td>4</td>\n",
       "      <td>Monday</td>\n",
       "      <td>Chrome</td>\n",
       "      <td>42</td>\n",
       "      <td>6</td>\n",
       "      <td>30.1</td>\n",
       "      <td>10423</td>\n",
       "    </tr>\n",
       "    <tr>\n",
       "      <th>4</th>\n",
       "      <td>5</td>\n",
       "      <td>Saturday</td>\n",
       "      <td>Internet Explorer</td>\n",
       "      <td>20</td>\n",
       "      <td>6</td>\n",
       "      <td>13.3</td>\n",
       "      <td>5404</td>\n",
       "    </tr>\n",
       "  </tbody>\n",
       "</table>\n",
       "</div>"
      ],
      "text/plain": [
       "   Customer       Day            Browser  No. of Clicks  Pages Viewed  \\\n",
       "0         1    Monday             Chrome             13             4   \n",
       "1         2  Saturday             Chrome             15             5   \n",
       "2         3    Monday  Internet Explorer             20             6   \n",
       "3         4    Monday             Chrome             42             6   \n",
       "4         5  Saturday  Internet Explorer             20             6   \n",
       "\n",
       "   Time (min)  Amount Spent (Rs.)  \n",
       "0         8.5                2668  \n",
       "1        16.9                3469  \n",
       "2         7.3                5215  \n",
       "3        30.1               10423  \n",
       "4        13.3                5404  "
      ]
     },
     "execution_count": 19,
     "metadata": {},
     "output_type": "execute_result"
    }
   ],
   "source": [
    "df.head()"
   ]
  },
  {
   "cell_type": "code",
   "execution_count": 4,
   "id": "b65c1533",
   "metadata": {},
   "outputs": [],
   "source": [
    "df.drop('Customer',axis = 1, inplace=True)"
   ]
  },
  {
   "cell_type": "code",
   "execution_count": 5,
   "id": "6a9c87a0",
   "metadata": {},
   "outputs": [
    {
     "data": {
      "text/html": [
       "<div>\n",
       "<style scoped>\n",
       "    .dataframe tbody tr th:only-of-type {\n",
       "        vertical-align: middle;\n",
       "    }\n",
       "\n",
       "    .dataframe tbody tr th {\n",
       "        vertical-align: top;\n",
       "    }\n",
       "\n",
       "    .dataframe thead th {\n",
       "        text-align: right;\n",
       "    }\n",
       "</style>\n",
       "<table border=\"1\" class=\"dataframe\">\n",
       "  <thead>\n",
       "    <tr style=\"text-align: right;\">\n",
       "      <th></th>\n",
       "      <th>Day</th>\n",
       "      <th>Browser</th>\n",
       "      <th>No. of Clicks</th>\n",
       "      <th>Pages Viewed</th>\n",
       "      <th>Time (min)</th>\n",
       "      <th>Amount Spent (Rs.)</th>\n",
       "    </tr>\n",
       "  </thead>\n",
       "  <tbody>\n",
       "    <tr>\n",
       "      <th>0</th>\n",
       "      <td>Monday</td>\n",
       "      <td>Chrome</td>\n",
       "      <td>13</td>\n",
       "      <td>4</td>\n",
       "      <td>8.5</td>\n",
       "      <td>2668</td>\n",
       "    </tr>\n",
       "    <tr>\n",
       "      <th>1</th>\n",
       "      <td>Saturday</td>\n",
       "      <td>Chrome</td>\n",
       "      <td>15</td>\n",
       "      <td>5</td>\n",
       "      <td>16.9</td>\n",
       "      <td>3469</td>\n",
       "    </tr>\n",
       "    <tr>\n",
       "      <th>2</th>\n",
       "      <td>Monday</td>\n",
       "      <td>Internet Explorer</td>\n",
       "      <td>20</td>\n",
       "      <td>6</td>\n",
       "      <td>7.3</td>\n",
       "      <td>5215</td>\n",
       "    </tr>\n",
       "    <tr>\n",
       "      <th>3</th>\n",
       "      <td>Monday</td>\n",
       "      <td>Chrome</td>\n",
       "      <td>42</td>\n",
       "      <td>6</td>\n",
       "      <td>30.1</td>\n",
       "      <td>10423</td>\n",
       "    </tr>\n",
       "    <tr>\n",
       "      <th>4</th>\n",
       "      <td>Saturday</td>\n",
       "      <td>Internet Explorer</td>\n",
       "      <td>20</td>\n",
       "      <td>6</td>\n",
       "      <td>13.3</td>\n",
       "      <td>5404</td>\n",
       "    </tr>\n",
       "  </tbody>\n",
       "</table>\n",
       "</div>"
      ],
      "text/plain": [
       "        Day            Browser  No. of Clicks  Pages Viewed  Time (min)  \\\n",
       "0    Monday             Chrome             13             4         8.5   \n",
       "1  Saturday             Chrome             15             5        16.9   \n",
       "2    Monday  Internet Explorer             20             6         7.3   \n",
       "3    Monday             Chrome             42             6        30.1   \n",
       "4  Saturday  Internet Explorer             20             6        13.3   \n",
       "\n",
       "   Amount Spent (Rs.)  \n",
       "0                2668  \n",
       "1                3469  \n",
       "2                5215  \n",
       "3               10423  \n",
       "4                5404  "
      ]
     },
     "execution_count": 5,
     "metadata": {},
     "output_type": "execute_result"
    }
   ],
   "source": [
    "df.head()"
   ]
  },
  {
   "cell_type": "code",
   "execution_count": 6,
   "id": "7b2b9c79",
   "metadata": {},
   "outputs": [],
   "source": [
    "lb = LabelEncoder()\n",
    "for col in df.columns:\n",
    "    if df[col].dtype == 'object' :\n",
    "        df[col] = lb.fit_transform(df[col])"
   ]
  },
  {
   "cell_type": "code",
   "execution_count": 7,
   "id": "a3a80471",
   "metadata": {},
   "outputs": [
    {
     "data": {
      "text/html": [
       "<div>\n",
       "<style scoped>\n",
       "    .dataframe tbody tr th:only-of-type {\n",
       "        vertical-align: middle;\n",
       "    }\n",
       "\n",
       "    .dataframe tbody tr th {\n",
       "        vertical-align: top;\n",
       "    }\n",
       "\n",
       "    .dataframe thead th {\n",
       "        text-align: right;\n",
       "    }\n",
       "</style>\n",
       "<table border=\"1\" class=\"dataframe\">\n",
       "  <thead>\n",
       "    <tr style=\"text-align: right;\">\n",
       "      <th></th>\n",
       "      <th>Day</th>\n",
       "      <th>Browser</th>\n",
       "      <th>No. of Clicks</th>\n",
       "      <th>Pages Viewed</th>\n",
       "      <th>Time (min)</th>\n",
       "      <th>Amount Spent (Rs.)</th>\n",
       "    </tr>\n",
       "  </thead>\n",
       "  <tbody>\n",
       "    <tr>\n",
       "      <th>0</th>\n",
       "      <td>1</td>\n",
       "      <td>0</td>\n",
       "      <td>13</td>\n",
       "      <td>4</td>\n",
       "      <td>8.5</td>\n",
       "      <td>2668</td>\n",
       "    </tr>\n",
       "    <tr>\n",
       "      <th>1</th>\n",
       "      <td>2</td>\n",
       "      <td>0</td>\n",
       "      <td>15</td>\n",
       "      <td>5</td>\n",
       "      <td>16.9</td>\n",
       "      <td>3469</td>\n",
       "    </tr>\n",
       "    <tr>\n",
       "      <th>2</th>\n",
       "      <td>1</td>\n",
       "      <td>2</td>\n",
       "      <td>20</td>\n",
       "      <td>6</td>\n",
       "      <td>7.3</td>\n",
       "      <td>5215</td>\n",
       "    </tr>\n",
       "    <tr>\n",
       "      <th>3</th>\n",
       "      <td>1</td>\n",
       "      <td>0</td>\n",
       "      <td>42</td>\n",
       "      <td>6</td>\n",
       "      <td>30.1</td>\n",
       "      <td>10423</td>\n",
       "    </tr>\n",
       "    <tr>\n",
       "      <th>4</th>\n",
       "      <td>2</td>\n",
       "      <td>2</td>\n",
       "      <td>20</td>\n",
       "      <td>6</td>\n",
       "      <td>13.3</td>\n",
       "      <td>5404</td>\n",
       "    </tr>\n",
       "  </tbody>\n",
       "</table>\n",
       "</div>"
      ],
      "text/plain": [
       "   Day  Browser  No. of Clicks  Pages Viewed  Time (min)  Amount Spent (Rs.)\n",
       "0    1        0             13             4         8.5                2668\n",
       "1    2        0             15             5        16.9                3469\n",
       "2    1        2             20             6         7.3                5215\n",
       "3    1        0             42             6        30.1               10423\n",
       "4    2        2             20             6        13.3                5404"
      ]
     },
     "execution_count": 7,
     "metadata": {},
     "output_type": "execute_result"
    }
   ],
   "source": [
    "df.head()"
   ]
  },
  {
   "cell_type": "code",
   "execution_count": 8,
   "id": "c684290e",
   "metadata": {},
   "outputs": [],
   "source": [
    "x = df.drop('Amount Spent (Rs.)',axis=1)\n",
    "y = df['Amount Spent (Rs.)']\n"
   ]
  },
  {
   "cell_type": "code",
   "execution_count": 9,
   "id": "d3476857",
   "metadata": {},
   "outputs": [],
   "source": [
    "x_train,x_test,y_train,y_test = train_test_split(x,y,test_size=0.3,random_state=5)"
   ]
  },
  {
   "cell_type": "code",
   "execution_count": 10,
   "id": "ad0e0e7c",
   "metadata": {},
   "outputs": [],
   "source": [
    "# Building Deep learning model"
   ]
  },
  {
   "cell_type": "code",
   "execution_count": 11,
   "id": "fce4bcce",
   "metadata": {},
   "outputs": [],
   "source": [
    "model = Sequential([Dense(500,activation='tanh',input_shape = (x.shape[1],)), #input_layer\n",
    "                   Dense(1000,activation='sigmoid'),   #first hidden layer\n",
    "                   Dense(2000,activation='sigmoid'),   #second hidden layer\n",
    "                   Dense(1,activation='relu')])        #output layer"
   ]
  },
  {
   "cell_type": "code",
   "execution_count": 12,
   "id": "4f3643ab",
   "metadata": {},
   "outputs": [
    {
     "name": "stdout",
     "output_type": "stream",
     "text": [
      "Model: \"sequential\"\n",
      "_________________________________________________________________\n",
      " Layer (type)                Output Shape              Param #   \n",
      "=================================================================\n",
      " dense (Dense)               (None, 500)               3000      \n",
      "                                                                 \n",
      " dense_1 (Dense)             (None, 1000)              501000    \n",
      "                                                                 \n",
      " dense_2 (Dense)             (None, 2000)              2002000   \n",
      "                                                                 \n",
      " dense_3 (Dense)             (None, 1)                 2001      \n",
      "                                                                 \n",
      "=================================================================\n",
      "Total params: 2,508,001\n",
      "Trainable params: 2,508,001\n",
      "Non-trainable params: 0\n",
      "_________________________________________________________________\n"
     ]
    }
   ],
   "source": [
    "model.summary()"
   ]
  },
  {
   "cell_type": "code",
   "execution_count": 13,
   "id": "50ca3d08",
   "metadata": {},
   "outputs": [],
   "source": [
    "model.compile(optimizer='Adam',loss='mse',metrics=['mse'])"
   ]
  },
  {
   "cell_type": "code",
   "execution_count": 14,
   "id": "25bbd154",
   "metadata": {},
   "outputs": [
    {
     "name": "stdout",
     "output_type": "stream",
     "text": [
      "Epoch 1/30\n",
      "61/61 [==============================] - 9s 127ms/step - loss: 56113372.0000 - mse: 56113372.0000 - val_loss: 54836344.0000 - val_mse: 54836344.0000\n",
      "Epoch 2/30\n",
      "61/61 [==============================] - 7s 119ms/step - loss: 55207768.0000 - mse: 55207768.0000 - val_loss: 53962520.0000 - val_mse: 53962520.0000\n",
      "Epoch 3/30\n",
      "61/61 [==============================] - 7s 120ms/step - loss: 54331740.0000 - mse: 54331740.0000 - val_loss: 53097704.0000 - val_mse: 53097704.0000\n",
      "Epoch 4/30\n",
      "61/61 [==============================] - 7s 121ms/step - loss: 53465244.0000 - mse: 53465244.0000 - val_loss: 52240468.0000 - val_mse: 52240468.0000\n",
      "Epoch 5/30\n",
      "61/61 [==============================] - 7s 118ms/step - loss: 52607304.0000 - mse: 52607304.0000 - val_loss: 51394712.0000 - val_mse: 51394712.0000\n",
      "Epoch 6/30\n",
      "61/61 [==============================] - 7s 119ms/step - loss: 51755552.0000 - mse: 51755552.0000 - val_loss: 50551200.0000 - val_mse: 50551200.0000\n",
      "Epoch 7/30\n",
      "61/61 [==============================] - 7s 118ms/step - loss: 50913652.0000 - mse: 50913652.0000 - val_loss: 49721580.0000 - val_mse: 49721580.0000\n",
      "Epoch 8/30\n",
      "61/61 [==============================] - 7s 109ms/step - loss: 50083868.0000 - mse: 50083868.0000 - val_loss: 48902704.0000 - val_mse: 48902704.0000\n",
      "Epoch 9/30\n",
      "61/61 [==============================] - 7s 109ms/step - loss: 49262324.0000 - mse: 49262324.0000 - val_loss: 48093304.0000 - val_mse: 48093304.0000\n",
      "Epoch 10/30\n",
      "61/61 [==============================] - 6s 101ms/step - loss: 48451724.0000 - mse: 48451724.0000 - val_loss: 47293220.0000 - val_mse: 47293220.0000\n",
      "Epoch 11/30\n",
      "61/61 [==============================] - 6s 101ms/step - loss: 47648708.0000 - mse: 47648708.0000 - val_loss: 46499128.0000 - val_mse: 46499128.0000\n",
      "Epoch 12/30\n",
      "61/61 [==============================] - 6s 101ms/step - loss: 46851152.0000 - mse: 46851152.0000 - val_loss: 45709732.0000 - val_mse: 45709732.0000\n",
      "Epoch 13/30\n",
      "61/61 [==============================] - 6s 102ms/step - loss: 46061292.0000 - mse: 46061292.0000 - val_loss: 44932472.0000 - val_mse: 44932472.0000\n",
      "Epoch 14/30\n",
      "61/61 [==============================] - 6s 100ms/step - loss: 45284544.0000 - mse: 45284544.0000 - val_loss: 44168328.0000 - val_mse: 44168328.0000\n",
      "Epoch 15/30\n",
      "61/61 [==============================] - 6s 101ms/step - loss: 44518796.0000 - mse: 44518796.0000 - val_loss: 43411824.0000 - val_mse: 43411824.0000\n",
      "Epoch 16/30\n",
      "61/61 [==============================] - 6s 101ms/step - loss: 43755516.0000 - mse: 43755516.0000 - val_loss: 42657504.0000 - val_mse: 42657504.0000\n",
      "Epoch 17/30\n",
      "61/61 [==============================] - 6s 100ms/step - loss: 43004120.0000 - mse: 43004120.0000 - val_loss: 41919756.0000 - val_mse: 41919756.0000\n",
      "Epoch 18/30\n",
      "61/61 [==============================] - 7s 107ms/step - loss: 42265844.0000 - mse: 42265844.0000 - val_loss: 41191756.0000 - val_mse: 41191756.0000\n",
      "Epoch 19/30\n",
      "61/61 [==============================] - 8s 126ms/step - loss: 41539520.0000 - mse: 41539520.0000 - val_loss: 40478408.0000 - val_mse: 40478408.0000\n",
      "Epoch 20/30\n",
      "61/61 [==============================] - 7s 122ms/step - loss: 40826060.0000 - mse: 40826060.0000 - val_loss: 39777716.0000 - val_mse: 39777716.0000\n",
      "Epoch 21/30\n",
      "61/61 [==============================] - 8s 124ms/step - loss: 40121828.0000 - mse: 40121828.0000 - val_loss: 39082384.0000 - val_mse: 39082384.0000\n",
      "Epoch 22/30\n",
      "61/61 [==============================] - 7s 122ms/step - loss: 39428712.0000 - mse: 39428712.0000 - val_loss: 38402828.0000 - val_mse: 38402828.0000\n",
      "Epoch 23/30\n",
      "61/61 [==============================] - 8s 124ms/step - loss: 38748068.0000 - mse: 38748068.0000 - val_loss: 37732556.0000 - val_mse: 37732556.0000\n",
      "Epoch 24/30\n",
      "61/61 [==============================] - 7s 122ms/step - loss: 38076936.0000 - mse: 38076936.0000 - val_loss: 37075208.0000 - val_mse: 37075208.0000\n",
      "Epoch 25/30\n",
      "61/61 [==============================] - 7s 122ms/step - loss: 37417356.0000 - mse: 37417356.0000 - val_loss: 36423980.0000 - val_mse: 36423980.0000\n",
      "Epoch 26/30\n",
      "61/61 [==============================] - 7s 122ms/step - loss: 36763144.0000 - mse: 36763144.0000 - val_loss: 35780320.0000 - val_mse: 35780320.0000\n",
      "Epoch 27/30\n",
      "61/61 [==============================] - 7s 123ms/step - loss: 36121556.0000 - mse: 36121556.0000 - val_loss: 35150900.0000 - val_mse: 35150904.0000\n",
      "Epoch 28/30\n",
      "61/61 [==============================] - 7s 123ms/step - loss: 35492784.0000 - mse: 35492784.0000 - val_loss: 34532112.0000 - val_mse: 34532112.0000\n",
      "Epoch 29/30\n",
      "61/61 [==============================] - 7s 123ms/step - loss: 34868672.0000 - mse: 34868672.0000 - val_loss: 33915732.0000 - val_mse: 33915732.0000\n",
      "Epoch 30/30\n",
      "61/61 [==============================] - 8s 123ms/step - loss: 34252016.0000 - mse: 34252016.0000 - val_loss: 33310474.0000 - val_mse: 33310474.0000\n"
     ]
    }
   ],
   "source": [
    "history = model.fit(x_train,y_train,epochs=30,batch_size= 500,validation_data=[x_test,y_test])"
   ]
  },
  {
   "cell_type": "code",
   "execution_count": 15,
   "id": "a0101b8a",
   "metadata": {},
   "outputs": [],
   "source": [
    "# plotting the accuracy and Loss plot"
   ]
  },
  {
   "cell_type": "code",
   "execution_count": 16,
   "id": "e18490b7",
   "metadata": {},
   "outputs": [
    {
     "data": {
      "text/plain": [
       "<matplotlib.legend.Legend at 0x25d715dae20>"
      ]
     },
     "execution_count": 16,
     "metadata": {},
     "output_type": "execute_result"
    },
    {
     "data": {
      "image/png": "[encoded data removed]",
      "text/plain": [
       "<Figure size 432x288 with 1 Axes>"
      ]
     },
     "metadata": {
      "needs_background": "light"
     },
     "output_type": "display_data"
    }
   ],
   "source": [
    "plt.plot(history.history['loss'])\n",
    "plt.plot(history.history['val_loss'])\n",
    "plt.xlabel('Epochs')\n",
    "plt.ylabel('loss')\n",
    "plt.title('loss_plot')\n",
    "plt.legend(['training','testing'])"
   ]
  },
  {
   "cell_type": "code",
   "execution_count": 17,
   "id": "bf34cb2d",
   "metadata": {},
   "outputs": [
    {
     "data": {
      "text/plain": [
       "<matplotlib.legend.Legend at 0x25d77525e50>"
      ]
     },
     "execution_count": 17,
     "metadata": {},
     "output_type": "execute_result"
    },
    {
     "data": {
      "image/png": "[encoded data removed]",
      "text/plain": [
       "<Figure size 432x288 with 1 Axes>"
      ]
     },
     "metadata": {
      "needs_background": "light"
     },
     "output_type": "display_data"
    }
   ],
   "source": [
    "plt.plot(history.history['mse'])\n",
    "plt.plot(history.history['val_mse'])\n",
    "plt.xlabel('Epochs')\n",
    "plt.ylabel('mse')\n",
    "plt.title('accuracy_plot')\n",
    "plt.legend(['training','testing'])"
   ]
  },
  {
   "cell_type": "code",
   "execution_count": null,
   "id": "a6264648",
   "metadata": {},
   "outputs": [],
   "source": []
  }
 ],
 "metadata": {
  "kernelspec": {
   "display_name": "Python 3 (ipykernel)",
   "language": "python",
   "name": "python3"
  },
  "language_info": {
   "codemirror_mode": {
    "name": "ipython",
    "version": 3
   },
   "file_extension": ".py",
   "mimetype": "text/x-python",
   "name": "python",
   "nbconvert_exporter": "python",
   "pygments_lexer": "ipython3",
   "version": "3.9.7"
  },
  "varInspector": {
   "cols": {
    "lenName": 16,
    "lenType": 16,
    "lenVar": 40
   },
   "kernels_config": {
    "python": {
     "delete_cmd_postfix": "",
     "delete_cmd_prefix": "del ",
     "library": "var_list.py",
     "varRefreshCmd": "print(var_dic_list())"
    },
    "r": {
     "delete_cmd_postfix": ") ",
     "delete_cmd_prefix": "rm(",
     "library": "var_list.r",
     "varRefreshCmd": "cat(var_dic_list()) "
    }
   },
   "types_to_exclude": [
    "module",
    "function",
    "builtin_function_or_method",
    "instance",
    "_Feature"
   ],
   "window_display": false
  }
 },
 "nbformat": 4,
 "nbformat_minor": 5
}
