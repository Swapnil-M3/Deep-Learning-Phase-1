{
 "cells": [
  {
   "cell_type": "code",
   "execution_count": 1,
   "id": "e3afd539",
   "metadata": {},
   "outputs": [],
   "source": [
    "import pandas as pd\n",
    "import tensorflow as tf\n",
    "from sklearn.preprocessing import LabelEncoder\n",
    "from sklearn.model_selection import train_test_split\n",
    "from tensorflow.keras.layers import Dense\n",
    "from tensorflow.keras.models import Sequential\n",
    "import matplotlib.pyplot as plt"
   ]
  },
  {
   "cell_type": "code",
   "execution_count": 3,
   "id": "380eb9d0",
   "metadata": {},
   "outputs": [],
   "source": [
    "df = pd.read_csv('ktm2.csv')"
   ]
  },
  {
   "cell_type": "code",
   "execution_count": 4,
   "id": "44b81b69",
   "metadata": {},
   "outputs": [
    {
     "data": {
      "text/html": [
       "<div>\n",
       "<style scoped>\n",
       "    .dataframe tbody tr th:only-of-type {\n",
       "        vertical-align: middle;\n",
       "    }\n",
       "\n",
       "    .dataframe tbody tr th {\n",
       "        vertical-align: top;\n",
       "    }\n",
       "\n",
       "    .dataframe thead th {\n",
       "        text-align: right;\n",
       "    }\n",
       "</style>\n",
       "<table border=\"1\" class=\"dataframe\">\n",
       "  <thead>\n",
       "    <tr style=\"text-align: right;\">\n",
       "      <th></th>\n",
       "      <th>ID</th>\n",
       "      <th>Age</th>\n",
       "      <th>Gender</th>\n",
       "      <th>Occupation</th>\n",
       "      <th>Phone Type</th>\n",
       "      <th>Current Bike</th>\n",
       "      <th>Relationship</th>\n",
       "      <th>Response</th>\n",
       "    </tr>\n",
       "  </thead>\n",
       "  <tbody>\n",
       "    <tr>\n",
       "      <th>0</th>\n",
       "      <td>1</td>\n",
       "      <td>53</td>\n",
       "      <td>Male</td>\n",
       "      <td>Professional</td>\n",
       "      <td>Average</td>\n",
       "      <td>180 to 220</td>\n",
       "      <td>Complicated</td>\n",
       "      <td>Not purchased</td>\n",
       "    </tr>\n",
       "    <tr>\n",
       "      <th>1</th>\n",
       "      <td>2</td>\n",
       "      <td>27</td>\n",
       "      <td>Female</td>\n",
       "      <td>Self Employed</td>\n",
       "      <td>Low End</td>\n",
       "      <td>No Bike</td>\n",
       "      <td>Single</td>\n",
       "      <td>Purchased</td>\n",
       "    </tr>\n",
       "    <tr>\n",
       "      <th>2</th>\n",
       "      <td>3</td>\n",
       "      <td>39</td>\n",
       "      <td>Female</td>\n",
       "      <td>Unemployed</td>\n",
       "      <td>Average</td>\n",
       "      <td>180 to 220</td>\n",
       "      <td>Married</td>\n",
       "      <td>Not purchased</td>\n",
       "    </tr>\n",
       "    <tr>\n",
       "      <th>3</th>\n",
       "      <td>4</td>\n",
       "      <td>20</td>\n",
       "      <td>Female</td>\n",
       "      <td>Unemployed</td>\n",
       "      <td>High End</td>\n",
       "      <td>No Bike</td>\n",
       "      <td>Married</td>\n",
       "      <td>Not purchased</td>\n",
       "    </tr>\n",
       "    <tr>\n",
       "      <th>4</th>\n",
       "      <td>5</td>\n",
       "      <td>29</td>\n",
       "      <td>Male</td>\n",
       "      <td>Student</td>\n",
       "      <td>Average</td>\n",
       "      <td>180 to 220</td>\n",
       "      <td>Complicated</td>\n",
       "      <td>Purchased</td>\n",
       "    </tr>\n",
       "  </tbody>\n",
       "</table>\n",
       "</div>"
      ],
      "text/plain": [
       "   ID  Age  Gender     Occupation Phone Type Current Bike Relationship  \\\n",
       "0   1   53   Male    Professional    Average   180 to 220  Complicated   \n",
       "1   2   27  Female  Self Employed    Low End      No Bike       Single   \n",
       "2   3   39  Female     Unemployed    Average   180 to 220      Married   \n",
       "3   4   20  Female     Unemployed   High End      No Bike      Married   \n",
       "4   5   29   Male         Student    Average   180 to 220  Complicated   \n",
       "\n",
       "        Response  \n",
       "0  Not purchased  \n",
       "1      Purchased  \n",
       "2  Not purchased  \n",
       "3  Not purchased  \n",
       "4      Purchased  "
      ]
     },
     "execution_count": 4,
     "metadata": {},
     "output_type": "execute_result"
    }
   ],
   "source": [
    "df.head()"
   ]
  },
  {
   "cell_type": "code",
   "execution_count": 8,
   "id": "5593fb87",
   "metadata": {},
   "outputs": [],
   "source": [
    "df.drop('ID',axis=1,inplace=True)"
   ]
  },
  {
   "cell_type": "code",
   "execution_count": 9,
   "id": "33e721e6",
   "metadata": {},
   "outputs": [
    {
     "data": {
      "text/html": [
       "<div>\n",
       "<style scoped>\n",
       "    .dataframe tbody tr th:only-of-type {\n",
       "        vertical-align: middle;\n",
       "    }\n",
       "\n",
       "    .dataframe tbody tr th {\n",
       "        vertical-align: top;\n",
       "    }\n",
       "\n",
       "    .dataframe thead th {\n",
       "        text-align: right;\n",
       "    }\n",
       "</style>\n",
       "<table border=\"1\" class=\"dataframe\">\n",
       "  <thead>\n",
       "    <tr style=\"text-align: right;\">\n",
       "      <th></th>\n",
       "      <th>Age</th>\n",
       "      <th>Gender</th>\n",
       "      <th>Occupation</th>\n",
       "      <th>Phone Type</th>\n",
       "      <th>Current Bike</th>\n",
       "      <th>Relationship</th>\n",
       "      <th>Response</th>\n",
       "    </tr>\n",
       "  </thead>\n",
       "  <tbody>\n",
       "    <tr>\n",
       "      <th>0</th>\n",
       "      <td>53</td>\n",
       "      <td>Male</td>\n",
       "      <td>Professional</td>\n",
       "      <td>Average</td>\n",
       "      <td>180 to 220</td>\n",
       "      <td>Complicated</td>\n",
       "      <td>Not purchased</td>\n",
       "    </tr>\n",
       "    <tr>\n",
       "      <th>1</th>\n",
       "      <td>27</td>\n",
       "      <td>Female</td>\n",
       "      <td>Self Employed</td>\n",
       "      <td>Low End</td>\n",
       "      <td>No Bike</td>\n",
       "      <td>Single</td>\n",
       "      <td>Purchased</td>\n",
       "    </tr>\n",
       "    <tr>\n",
       "      <th>2</th>\n",
       "      <td>39</td>\n",
       "      <td>Female</td>\n",
       "      <td>Unemployed</td>\n",
       "      <td>Average</td>\n",
       "      <td>180 to 220</td>\n",
       "      <td>Married</td>\n",
       "      <td>Not purchased</td>\n",
       "    </tr>\n",
       "    <tr>\n",
       "      <th>3</th>\n",
       "      <td>20</td>\n",
       "      <td>Female</td>\n",
       "      <td>Unemployed</td>\n",
       "      <td>High End</td>\n",
       "      <td>No Bike</td>\n",
       "      <td>Married</td>\n",
       "      <td>Not purchased</td>\n",
       "    </tr>\n",
       "    <tr>\n",
       "      <th>4</th>\n",
       "      <td>29</td>\n",
       "      <td>Male</td>\n",
       "      <td>Student</td>\n",
       "      <td>Average</td>\n",
       "      <td>180 to 220</td>\n",
       "      <td>Complicated</td>\n",
       "      <td>Purchased</td>\n",
       "    </tr>\n",
       "  </tbody>\n",
       "</table>\n",
       "</div>"
      ],
      "text/plain": [
       "   Age  Gender     Occupation Phone Type Current Bike Relationship  \\\n",
       "0   53   Male    Professional    Average   180 to 220  Complicated   \n",
       "1   27  Female  Self Employed    Low End      No Bike       Single   \n",
       "2   39  Female     Unemployed    Average   180 to 220      Married   \n",
       "3   20  Female     Unemployed   High End      No Bike      Married   \n",
       "4   29   Male         Student    Average   180 to 220  Complicated   \n",
       "\n",
       "        Response  \n",
       "0  Not purchased  \n",
       "1      Purchased  \n",
       "2  Not purchased  \n",
       "3  Not purchased  \n",
       "4      Purchased  "
      ]
     },
     "execution_count": 9,
     "metadata": {},
     "output_type": "execute_result"
    }
   ],
   "source": [
    "df.head()"
   ]
  },
  {
   "cell_type": "code",
   "execution_count": 10,
   "id": "61433a85",
   "metadata": {},
   "outputs": [],
   "source": [
    "lb = LabelEncoder()\n",
    "for col in df.columns:\n",
    "    if df[col].dtype == 'object' :\n",
    "        df[col] = lb.fit_transform(df[col])\n",
    "        "
   ]
  },
  {
   "cell_type": "code",
   "execution_count": 11,
   "id": "24e7db6a",
   "metadata": {},
   "outputs": [
    {
     "data": {
      "text/html": [
       "<div>\n",
       "<style scoped>\n",
       "    .dataframe tbody tr th:only-of-type {\n",
       "        vertical-align: middle;\n",
       "    }\n",
       "\n",
       "    .dataframe tbody tr th {\n",
       "        vertical-align: top;\n",
       "    }\n",
       "\n",
       "    .dataframe thead th {\n",
       "        text-align: right;\n",
       "    }\n",
       "</style>\n",
       "<table border=\"1\" class=\"dataframe\">\n",
       "  <thead>\n",
       "    <tr style=\"text-align: right;\">\n",
       "      <th></th>\n",
       "      <th>Age</th>\n",
       "      <th>Gender</th>\n",
       "      <th>Occupation</th>\n",
       "      <th>Phone Type</th>\n",
       "      <th>Current Bike</th>\n",
       "      <th>Relationship</th>\n",
       "      <th>Response</th>\n",
       "    </tr>\n",
       "  </thead>\n",
       "  <tbody>\n",
       "    <tr>\n",
       "      <th>0</th>\n",
       "      <td>53</td>\n",
       "      <td>1</td>\n",
       "      <td>0</td>\n",
       "      <td>0</td>\n",
       "      <td>1</td>\n",
       "      <td>1</td>\n",
       "      <td>0</td>\n",
       "    </tr>\n",
       "    <tr>\n",
       "      <th>1</th>\n",
       "      <td>27</td>\n",
       "      <td>0</td>\n",
       "      <td>1</td>\n",
       "      <td>2</td>\n",
       "      <td>4</td>\n",
       "      <td>3</td>\n",
       "      <td>1</td>\n",
       "    </tr>\n",
       "    <tr>\n",
       "      <th>2</th>\n",
       "      <td>39</td>\n",
       "      <td>0</td>\n",
       "      <td>3</td>\n",
       "      <td>0</td>\n",
       "      <td>1</td>\n",
       "      <td>2</td>\n",
       "      <td>0</td>\n",
       "    </tr>\n",
       "    <tr>\n",
       "      <th>3</th>\n",
       "      <td>20</td>\n",
       "      <td>0</td>\n",
       "      <td>3</td>\n",
       "      <td>1</td>\n",
       "      <td>4</td>\n",
       "      <td>2</td>\n",
       "      <td>0</td>\n",
       "    </tr>\n",
       "    <tr>\n",
       "      <th>4</th>\n",
       "      <td>29</td>\n",
       "      <td>1</td>\n",
       "      <td>2</td>\n",
       "      <td>0</td>\n",
       "      <td>1</td>\n",
       "      <td>1</td>\n",
       "      <td>1</td>\n",
       "    </tr>\n",
       "  </tbody>\n",
       "</table>\n",
       "</div>"
      ],
      "text/plain": [
       "   Age  Gender  Occupation  Phone Type  Current Bike  Relationship  Response\n",
       "0   53       1           0           0             1             1         0\n",
       "1   27       0           1           2             4             3         1\n",
       "2   39       0           3           0             1             2         0\n",
       "3   20       0           3           1             4             2         0\n",
       "4   29       1           2           0             1             1         1"
      ]
     },
     "execution_count": 11,
     "metadata": {},
     "output_type": "execute_result"
    }
   ],
   "source": [
    "df.head()"
   ]
  },
  {
   "cell_type": "code",
   "execution_count": 12,
   "id": "9c522682",
   "metadata": {},
   "outputs": [],
   "source": [
    "x = df.drop('Response',axis=1)\n",
    "y = df['Response']"
   ]
  },
  {
   "cell_type": "code",
   "execution_count": 13,
   "id": "91cdf565",
   "metadata": {},
   "outputs": [],
   "source": [
    "x_train,x_test,y_train,y_test = train_test_split(x,y,test_size=0.3,random_state=5)"
   ]
  },
  {
   "cell_type": "code",
   "execution_count": 14,
   "id": "f9b12290",
   "metadata": {},
   "outputs": [],
   "source": [
    "# Building Deep learning model"
   ]
  },
  {
   "cell_type": "code",
   "execution_count": 15,
   "id": "6c98951e",
   "metadata": {},
   "outputs": [],
   "source": [
    "model = Sequential([Dense(500,activation='tanh',input_shape = (x.shape[1],)), #input_layer\n",
    "                   Dense(1000,activation='sigmoid'),   #first hidden layer\n",
    "                   Dense(2000,activation='sigmoid'),   #second hidden layer\n",
    "                   Dense(1,activation='sigmoid')])        #output layer"
   ]
  },
  {
   "cell_type": "code",
   "execution_count": 16,
   "id": "fbe2ae88",
   "metadata": {},
   "outputs": [],
   "source": [
    "model.compile(optimizer='Adam',loss='BinaryCrossentropy',metrics=['accuracy'])"
   ]
  },
  {
   "cell_type": "code",
   "execution_count": 17,
   "id": "785fde6a",
   "metadata": {},
   "outputs": [
    {
     "name": "stdout",
     "output_type": "stream",
     "text": [
      "Epoch 1/30\n",
      "11/11 [==============================] - 4s 158ms/step - loss: 1.3657 - accuracy: 0.5358 - val_loss: 0.7862 - val_accuracy: 0.5768\n",
      "Epoch 2/30\n",
      "11/11 [==============================] - 1s 94ms/step - loss: 0.7374 - accuracy: 0.5226 - val_loss: 0.6651 - val_accuracy: 0.5768\n",
      "Epoch 3/30\n",
      "11/11 [==============================] - 1s 94ms/step - loss: 0.6953 - accuracy: 0.5932 - val_loss: 0.6678 - val_accuracy: 0.5570\n",
      "Epoch 4/30\n",
      "11/11 [==============================] - 1s 102ms/step - loss: 0.6401 - accuracy: 0.6073 - val_loss: 0.6105 - val_accuracy: 0.5768\n",
      "Epoch 5/30\n",
      "11/11 [==============================] - 1s 95ms/step - loss: 0.5586 - accuracy: 0.6930 - val_loss: 0.5154 - val_accuracy: 0.7654\n",
      "Epoch 6/30\n",
      "11/11 [==============================] - 1s 88ms/step - loss: 0.5139 - accuracy: 0.7684 - val_loss: 0.5222 - val_accuracy: 0.7610\n",
      "Epoch 7/30\n",
      "11/11 [==============================] - 1s 85ms/step - loss: 0.5028 - accuracy: 0.7750 - val_loss: 0.5264 - val_accuracy: 0.7566\n",
      "Epoch 8/30\n",
      "11/11 [==============================] - 1s 110ms/step - loss: 0.5077 - accuracy: 0.7684 - val_loss: 0.5089 - val_accuracy: 0.7697\n",
      "Epoch 9/30\n",
      "11/11 [==============================] - 1s 106ms/step - loss: 0.4976 - accuracy: 0.7712 - val_loss: 0.5059 - val_accuracy: 0.7697\n",
      "Epoch 10/30\n",
      "11/11 [==============================] - 1s 105ms/step - loss: 0.4902 - accuracy: 0.7759 - val_loss: 0.5233 - val_accuracy: 0.7610\n",
      "Epoch 11/30\n",
      "11/11 [==============================] - 1s 97ms/step - loss: 0.5039 - accuracy: 0.7740 - val_loss: 0.5193 - val_accuracy: 0.7588\n",
      "Epoch 12/30\n",
      "11/11 [==============================] - 1s 110ms/step - loss: 0.5002 - accuracy: 0.7712 - val_loss: 0.5029 - val_accuracy: 0.7632\n",
      "Epoch 13/30\n",
      "11/11 [==============================] - 1s 103ms/step - loss: 0.4909 - accuracy: 0.7712 - val_loss: 0.5041 - val_accuracy: 0.7697\n",
      "Epoch 14/30\n",
      "11/11 [==============================] - 1s 100ms/step - loss: 0.5019 - accuracy: 0.7693 - val_loss: 0.5162 - val_accuracy: 0.7632\n",
      "Epoch 15/30\n",
      "11/11 [==============================] - 1s 107ms/step - loss: 0.5115 - accuracy: 0.7589 - val_loss: 0.5041 - val_accuracy: 0.7632\n",
      "Epoch 16/30\n",
      "11/11 [==============================] - 1s 100ms/step - loss: 0.4929 - accuracy: 0.7731 - val_loss: 0.5201 - val_accuracy: 0.7632\n",
      "Epoch 17/30\n",
      "11/11 [==============================] - 1s 108ms/step - loss: 0.5010 - accuracy: 0.7693 - val_loss: 0.5389 - val_accuracy: 0.7632\n",
      "Epoch 18/30\n",
      "11/11 [==============================] - 1s 98ms/step - loss: 0.4963 - accuracy: 0.7561 - val_loss: 0.5141 - val_accuracy: 0.7654\n",
      "Epoch 19/30\n",
      "11/11 [==============================] - 1s 96ms/step - loss: 0.4942 - accuracy: 0.7674 - val_loss: 0.5062 - val_accuracy: 0.7719\n",
      "Epoch 20/30\n",
      "11/11 [==============================] - 1s 100ms/step - loss: 0.4929 - accuracy: 0.7589 - val_loss: 0.5055 - val_accuracy: 0.7675\n",
      "Epoch 21/30\n",
      "11/11 [==============================] - 1s 109ms/step - loss: 0.4902 - accuracy: 0.7655 - val_loss: 0.5046 - val_accuracy: 0.7719\n",
      "Epoch 22/30\n",
      "11/11 [==============================] - 1s 101ms/step - loss: 0.4904 - accuracy: 0.7684 - val_loss: 0.5170 - val_accuracy: 0.7654\n",
      "Epoch 23/30\n",
      "11/11 [==============================] - 1s 96ms/step - loss: 0.4880 - accuracy: 0.7740 - val_loss: 0.5050 - val_accuracy: 0.7697\n",
      "Epoch 24/30\n",
      "11/11 [==============================] - 1s 103ms/step - loss: 0.4877 - accuracy: 0.7693 - val_loss: 0.5041 - val_accuracy: 0.7719\n",
      "Epoch 25/30\n",
      "11/11 [==============================] - 1s 99ms/step - loss: 0.4929 - accuracy: 0.7674 - val_loss: 0.5042 - val_accuracy: 0.7807\n",
      "Epoch 26/30\n",
      "11/11 [==============================] - 1s 102ms/step - loss: 0.4877 - accuracy: 0.7674 - val_loss: 0.5052 - val_accuracy: 0.7763\n",
      "Epoch 27/30\n",
      "11/11 [==============================] - 1s 101ms/step - loss: 0.5046 - accuracy: 0.7637 - val_loss: 0.5074 - val_accuracy: 0.7719\n",
      "Epoch 28/30\n",
      "11/11 [==============================] - 1s 104ms/step - loss: 0.5016 - accuracy: 0.7721 - val_loss: 0.5072 - val_accuracy: 0.7654\n",
      "Epoch 29/30\n",
      "11/11 [==============================] - 1s 101ms/step - loss: 0.4885 - accuracy: 0.7655 - val_loss: 0.5061 - val_accuracy: 0.7741\n",
      "Epoch 30/30\n",
      "11/11 [==============================] - 1s 100ms/step - loss: 0.4923 - accuracy: 0.7684 - val_loss: 0.5053 - val_accuracy: 0.7785\n"
     ]
    }
   ],
   "source": [
    "history = model.fit(x_train,y_train,epochs=30,batch_size= 100,validation_data=[x_test,y_test])"
   ]
  },
  {
   "cell_type": "code",
   "execution_count": 18,
   "id": "83c4dd18",
   "metadata": {},
   "outputs": [
    {
     "data": {
      "text/plain": [
       "<matplotlib.legend.Legend at 0x1f476354f40>"
      ]
     },
     "execution_count": 18,
     "metadata": {},
     "output_type": "execute_result"
    },
    {
     "data": {
      "image/png": "[encoded data removed]",
      "text/plain": [
       "<Figure size 432x288 with 1 Axes>"
      ]
     },
     "metadata": {
      "needs_background": "light"
     },
     "output_type": "display_data"
    }
   ],
   "source": [
    "plt.plot(history.history['loss'])\n",
    "plt.plot(history.history['val_loss'])\n",
    "plt.xlabel('Epochs')\n",
    "plt.ylabel('loss')\n",
    "plt.title('loss_plot')\n",
    "plt.legend(['training','testing'])"
   ]
  },
  {
   "cell_type": "code",
   "execution_count": 19,
   "id": "969325c5",
   "metadata": {},
   "outputs": [
    {
     "data": {
      "text/plain": [
       "<matplotlib.legend.Legend at 0x1f474e022e0>"
      ]
     },
     "execution_count": 19,
     "metadata": {},
     "output_type": "execute_result"
    },
    {
     "data": {
      "image/png": "[encoded data removed]",
      "text/plain": [
       "<Figure size 432x288 with 1 Axes>"
      ]
     },
     "metadata": {
      "needs_background": "light"
     },
     "output_type": "display_data"
    }
   ],
   "source": [
    "plt.plot(history.history['accuracy'])\n",
    "plt.plot(history.history['val_accuracy'])\n",
    "plt.xlabel('Epochs')\n",
    "plt.ylabel('accuracy')\n",
    "plt.title('accuracy_plot')\n",
    "plt.legend(['training','testing'])"
   ]
  },
  {
   "cell_type": "code",
   "execution_count": null,
   "id": "98949d6c",
   "metadata": {},
   "outputs": [],
   "source": []
  }
 ],
 "metadata": {
  "kernelspec": {
   "display_name": "Python 3 (ipykernel)",
   "language": "python",
   "name": "python3"
  },
  "language_info": {
   "codemirror_mode": {
    "name": "ipython",
    "version": 3
   },
   "file_extension": ".py",
   "mimetype": "text/x-python",
   "name": "python",
   "nbconvert_exporter": "python",
   "pygments_lexer": "ipython3",
   "version": "3.9.7"
  },
  "varInspector": {
   "cols": {
    "lenName": 16,
    "lenType": 16,
    "lenVar": 40
   },
   "kernels_config": {
    "python": {
     "delete_cmd_postfix": "",
     "delete_cmd_prefix": "del ",
     "library": "var_list.py",
     "varRefreshCmd": "print(var_dic_list())"
    },
    "r": {
     "delete_cmd_postfix": ") ",
     "delete_cmd_prefix": "rm(",
     "library": "var_list.r",
     "varRefreshCmd": "cat(var_dic_list()) "
    }
   },
   "types_to_exclude": [
    "module",
    "function",
    "builtin_function_or_method",
    "instance",
    "_Feature"
   ],
   "window_display": false
  }
 },
 "nbformat": 4,
 "nbformat_minor": 5
}
